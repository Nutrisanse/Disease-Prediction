{
 "cells": [
  {
   "cell_type": "code",
   "execution_count": null,
   "metadata": {},
   "outputs": [],
   "source": [
    "import pandas as pd\n",
    "import numpy as np"
   ]
  },
  {
   "cell_type": "code",
   "execution_count": null,
   "metadata": {},
   "outputs": [],
   "source": [
    "def calculate_bmi(weight, height):\n",
    "    if height > 0:  # tinggi badan ga boleh dibawah 0\n",
    "        return weight / ((height / 100) ** 2)\n",
    "    else:\n",
    "        return np.nan\n",
    "\n",
    "def load_data(file_path):\n",
    "    return pd.read_csv(file_path)"
   ]
  },
  {
   "cell_type": "code",
   "execution_count": null,
   "metadata": {},
   "outputs": [],
   "source": [
    "data_path = './dataset/health_data1/'"
   ]
  },
  {
   "cell_type": "markdown",
   "metadata": {},
   "source": [
    "anemia dataset preprocessing"
   ]
  },
  {
   "cell_type": "code",
   "execution_count": null,
   "metadata": {},
   "outputs": [],
   "source": [
    "anemia_data = load_data(data_path + 'anemia-dataset.csv')\n",
    "anemia_data = anemia_data[['Gender', 'Hemoglobin']]\n",
    "anemia_data.rename(columns={'Gender': 'gender', 'Hemoglobin': 'hemoglobin'}, inplace=True)\n",
    "anemia_data['age'] = np.nan\n",
    "anemia_data['blood_pressure'] = np.nan\n",
    "anemia_data['cholesterol'] = np.nan\n",
    "anemia_data['glucose'] = np.nan\n",
    "anemia_data['bmi'] = np.nan"
   ]
  },
  {
   "cell_type": "markdown",
   "metadata": {},
   "source": [
    "cholesterol dataset preprocessing"
   ]
  },
  {
   "cell_type": "code",
   "execution_count": null,
   "metadata": {},
   "outputs": [],
   "source": [
    "cholesterol_data = load_data(data_path + 'cholesterol-dataset.csv')\n",
    "cholesterol_data = cholesterol_data[['age', 'sex', 'trestbps', 'chol']]\n",
    "cholesterol_data.rename(columns={\n",
    "    'age': 'age',\n",
    "    'sex': 'gender',\n",
    "    'trestbps': 'blood_pressure',\n",
    "    'chol': 'cholesterol'\n",
    "}, inplace=True)\n",
    "cholesterol_data['height'] = np.nan\n",
    "cholesterol_data['weight'] = np.nan\n",
    "cholesterol_data['glucose'] = np.nan\n",
    "cholesterol_data['bmi'] = np.nan"
   ]
  },
  {
   "cell_type": "markdown",
   "metadata": {},
   "source": [
    "chronic kidney disease dataset preprocessing"
   ]
  },
  {
   "cell_type": "code",
   "execution_count": null,
   "metadata": {},
   "outputs": [],
   "source": [
    "ckd_data = load_data(data_path + 'chronic-kidney-disease-dataset.csv')\n",
    "ckd_data = ckd_data[['age', 'bp', 'bgr']]\n",
    "ckd_data.rename(columns={\n",
    "    'age': 'age',\n",
    "    'bp': 'blood_pressure',\n",
    "    'bgr': 'glucose'\n",
    "}, inplace=True)\n",
    "ckd_data['gender'] = np.nan\n",
    "ckd_data['height'] = np.nan\n",
    "ckd_data['weight'] = np.nan\n",
    "ckd_data['cholesterol'] = np.nan\n",
    "ckd_data['bmi'] = np.nan"
   ]
  },
  {
   "cell_type": "markdown",
   "metadata": {},
   "source": [
    "diabetes dataset preprocessing"
   ]
  },
  {
   "cell_type": "code",
   "execution_count": null,
   "metadata": {},
   "outputs": [],
   "source": [
    "diabetes_data = load_data(data_path + 'diabetes-dataset.csv')\n",
    "diabetes_data = diabetes_data[['Age', 'Sex', 'BMI', 'HighBP']]\n",
    "diabetes_data.rename(columns={\n",
    "    'Age': 'age',\n",
    "    'Sex': 'gender',\n",
    "    'BMI': 'bmi',\n",
    "    'HighBP': 'blood_pressure'\n",
    "}, inplace=True)\n",
    "diabetes_data['height'] = np.nan\n",
    "diabetes_data['weight'] = np.nan\n",
    "diabetes_data['cholesterol'] = np.nan\n",
    "diabetes_data['glucose'] = np.nan"
   ]
  },
  {
   "cell_type": "markdown",
   "metadata": {},
   "source": [
    "heart disease dataset preprocessing"
   ]
  },
  {
   "cell_type": "code",
   "execution_count": null,
   "metadata": {},
   "outputs": [],
   "source": [
    "heart_disease_data = load_data(data_path + 'heart-disease-dataset.csv')\n",
    "heart_disease_data = heart_disease_data[['age', 'sex', 'trestbps', 'chol']]\n",
    "heart_disease_data.rename(columns={\n",
    "    'age': 'age',\n",
    "    'sex': 'gender',\n",
    "    'trestbps': 'blood_pressure',\n",
    "    'chol': 'cholesterol'\n",
    "}, inplace=True)\n",
    "heart_disease_data['glucose'] = np.nan\n",
    "heart_disease_data['height'] = np.nan\n",
    "heart_disease_data['weight'] = np.nan\n",
    "heart_disease_data['bmi'] = np.nan"
   ]
  },
  {
   "cell_type": "markdown",
   "metadata": {},
   "source": [
    "hypertension dataset prprocessing"
   ]
  },
  {
   "cell_type": "code",
   "execution_count": null,
   "metadata": {},
   "outputs": [],
   "source": [
    "hypertension_data = load_data(data_path + 'hypertension-dataset.csv')\n",
    "hypertension_data = hypertension_data[['age', 'sex', 'trestbps', 'chol']]\n",
    "hypertension_data.rename(columns={\n",
    "    'age': 'age',\n",
    "    'sex': 'gender',\n",
    "    'trestbps': 'blood_pressure',\n",
    "    'chol': 'cholesterol'\n",
    "}, inplace=True)\n",
    "hypertension_data['glucose'] = np.nan\n",
    "hypertension_data['height'] = np.nan\n",
    "hypertension_data['weight'] = np.nan\n",
    "hypertension_data['bmi'] = np.nan"
   ]
  },
  {
   "cell_type": "markdown",
   "metadata": {},
   "source": [
    "metabolic syndrome dataset preprocessing"
   ]
  },
  {
   "cell_type": "code",
   "execution_count": null,
   "metadata": {},
   "outputs": [],
   "source": [
    "metabolic_data = load_data(data_path + 'metabolic-syndrome-dataset.csv')\n",
    "metabolic_data = metabolic_data[['Age', 'Sex', 'BloodGlucose', 'HDL', 'Triglycerides']]\n",
    "metabolic_data.rename(columns={\n",
    "    'Age': 'age',\n",
    "    'Sex': 'gender',\n",
    "    'BloodGlucose': 'glucose',\n",
    "    'Triglycerides': 'cholesterol'  # asumsikan parameter triglycerides = cholesterol\n",
    "}, inplace=True)\n",
    "metabolic_data['height'] = np.nan\n",
    "metabolic_data['weight'] = np.nan\n",
    "metabolic_data['blood_pressure'] = np.nan\n",
    "metabolic_data['bmi'] = np.nan"
   ]
  },
  {
   "cell_type": "markdown",
   "metadata": {},
   "source": [
    "liver disease dataset preprocessing, using nafld1-dataset"
   ]
  },
  {
   "cell_type": "code",
   "execution_count": null,
   "metadata": {},
   "outputs": [],
   "source": [
    "nafld1_data = load_data(data_path + 'nafld1-dataset.csv')\n",
    "nafld1_data = nafld1_data[['age', 'weight', 'height']]\n",
    "nafld1_data['bmi'] = nafld1_data.apply(lambda x: calculate_bmi(x['weight'], x['height']), axis=1)\n",
    "nafld1_data.rename(columns={'age': 'age'}, inplace=True)\n",
    "nafld1_data['gender'] = np.nan\n",
    "nafld1_data['blood_pressure'] = np.nan\n",
    "nafld1_data['cholesterol'] = np.nan\n",
    "nafld1_data['glucose'] = np.nan"
   ]
  },
  {
   "cell_type": "markdown",
   "metadata": {},
   "source": [
    "obesity dataset preprocessing"
   ]
  },
  {
   "cell_type": "code",
   "execution_count": null,
   "metadata": {},
   "outputs": [],
   "source": [
    "obesity_data = load_data(data_path + 'obesity-dataset.csv')\n",
    "obesity_data = obesity_data[['Age', 'Gender', 'Height', 'Weight']]\n",
    "obesity_data['bmi'] = obesity_data.apply(lambda x: calculate_bmi(x['Weight'], x['Height']), axis=1)\n",
    "obesity_data.rename(columns={'Age': 'age', 'Gender': 'gender'}, inplace=True)\n",
    "obesity_data['blood_pressure'] = np.nan\n",
    "obesity_data['cholesterol'] = np.nan\n",
    "obesity_data['glucose'] = np.nan"
   ]
  },
  {
   "cell_type": "markdown",
   "metadata": {},
   "source": [
    "stroke dataset preprocessing"
   ]
  },
  {
   "cell_type": "code",
   "execution_count": null,
   "metadata": {},
   "outputs": [],
   "source": [
    "stroke_data = load_data(data_path + 'stroke-dataset.csv')\n",
    "stroke_data = stroke_data[['age', 'sex', 'avg_glucose_level', 'bmi']]\n",
    "stroke_data.rename(columns={\n",
    "    'age': 'age',\n",
    "    'sex': 'gender',\n",
    "    'avg_glucose_level': 'glucose',\n",
    "    'bmi': 'bmi'\n",
    "}, inplace=True)\n",
    "stroke_data['height'] = np.nan\n",
    "stroke_data['weight'] = np.nan\n",
    "stroke_data['blood_pressure'] = np.nan\n",
    "stroke_data['cholesterol'] = np.nan"
   ]
  },
  {
   "cell_type": "code",
   "execution_count": null,
   "metadata": {},
   "outputs": [],
   "source": [
    "all_datasets = [\n",
    "    anemia_data,\n",
    "    cholesterol_data,\n",
    "    ckd_data,\n",
    "    diabetes_data,\n",
    "    heart_disease_data,\n",
    "    hypertension_data,\n",
    "    metabolic_data,\n",
    "    nafld1_data,\n",
    "    obesity_data,\n",
    "    stroke_data\n",
    "]\n",
    "\n",
    "# merge and save\n",
    "final_data = pd.concat(all_datasets, ignore_index=True)\n",
    "\n",
    "final_data.to_csv(data_path + 'health_data1_combined.csv', index=False)\n",
    "print(\"Data successfully merged and saved\")"
   ]
  }
 ],
 "metadata": {
  "kernelspec": {
   "display_name": "Python 3",
   "language": "python",
   "name": "python3"
  },
  "language_info": {
   "name": "python",
   "version": "3.8.0"
  }
 },
 "nbformat": 4,
 "nbformat_minor": 2
}
