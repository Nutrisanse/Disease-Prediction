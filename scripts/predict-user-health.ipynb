{
 "cells": [
  {
   "cell_type": "code",
   "execution_count": 1,
   "metadata": {},
   "outputs": [],
   "source": [
    "import tensorflow as tf\n",
    "import numpy as np\n",
    "import pandas as pd\n",
    "import os\n",
    "import json\n",
    "import joblib\n"
   ]
  },
  {
   "cell_type": "code",
   "execution_count": 2,
   "metadata": {},
   "outputs": [
    {
     "name": "stdout",
     "output_type": "stream",
     "text": [
      "Working directory set to: c:\\Users\\Dana\\Documents\\Kuliah\\Bangkit\\Capstone-C242-PS384_Project01\n"
     ]
    }
   ],
   "source": [
    "def set_project_directory():\n",
    "    current_dir = os.getcwd()\n",
    "    \n",
    "    if os.path.basename(current_dir) == 'scripts':\n",
    "        os.chdir('..')\n",
    "    \n",
    "    print(f\"Working directory set to: {os.getcwd()}\")\n",
    "\n",
    "    \n",
    "set_project_directory()"
   ]
  },
  {
   "cell_type": "code",
   "execution_count": 3,
   "metadata": {},
   "outputs": [
    {
     "name": "stdout",
     "output_type": "stream",
     "text": [
      "Daftar file di dalam folder: ['disease-prediction-model.hdf5', 'disease-prediction-model.joblib', 'disease-prediction-model.json', 'scaler.joblib']\n",
      "Semua file dataset ditemukan.\n"
     ]
    }
   ],
   "source": [
    "folder_path = 'models/'\n",
    "\n",
    "try:\n",
    "    print(\"Daftar file di dalam folder:\", os.listdir(folder_path))\n",
    "    required_files = [\n",
    "        'disease-prediction-model.joblib',\n",
    "        'disease-prediction-model.hdf5',\n",
    "        'disease-prediction-model.json'\n",
    "    ]\n",
    "    \n",
    "    missing_files = [f for f in required_files if not os.path.isfile(os.path.join(folder_path, f))]\n",
    "    \n",
    "    if missing_files:\n",
    "        print(f\"File yang hilang: {', '.join(missing_files)}\")\n",
    "    else:\n",
    "        print(\"Semua file dataset ditemukan.\")\n",
    "\n",
    "except FileNotFoundError:\n",
    "    print(f\"Folder tidak ditemukan: {folder_path}\")"
   ]
  },
  {
   "cell_type": "code",
   "execution_count": 6,
   "metadata": {},
   "outputs": [],
   "source": [
    "def load_model_and_params(model_path='models/disease-prediction-model.joblib', \n",
    "                         scaler_path='models/scaler.joblib'):\n",
    "    \"\"\"Load the trained model and its parameters\"\"\"\n",
    "    if not os.path.exists(model_path) or not os.path.exists(scaler_path):\n",
    "        raise FileNotFoundError(f\"Model or scaler file not found\")\n",
    "    \n",
    "    # Load model and scaler separately\n",
    "    models = joblib.load(model_path)\n",
    "    scaler = joblib.load(scaler_path)\n",
    "    \n",
    "    return models, scaler\n",
    "\n",
    "def calculate_bmi(weight, height):\n",
    "    \"\"\"Calculate BMI from weight (kg) and height (cm)\"\"\"\n",
    "    if height > 0:\n",
    "        return weight / ((height / 100) ** 2)\n",
    "    else:\n",
    "        return np.nan\n",
    "\n",
    "def get_bmi_category(bmi):\n",
    "    \"\"\"Get BMI category\"\"\"\n",
    "    if bmi < 18.5:\n",
    "        return \"Underweight\"\n",
    "    elif bmi < 25:\n",
    "        return \"Normal\"\n",
    "    elif bmi < 30:\n",
    "        return \"Overweight\"\n",
    "    else:\n",
    "        return \"Obese\"\n",
    "\n",
    "def get_risk_level(probability):\n",
    "    \"\"\"Get risk level based on probability\"\"\"\n",
    "    if probability < 20:\n",
    "        return \"Risiko Rendah\"\n",
    "    elif probability < 40:\n",
    "        return \"Risiko Sedang\"\n",
    "    elif probability < 60:\n",
    "        return \"Risiko Tinggi\"\n",
    "    else:\n",
    "        return \"Risiko Sangat Tinggi\"\n",
    "    \n",
    "    "
   ]
  },
  {
   "cell_type": "code",
   "execution_count": 11,
   "metadata": {},
   "outputs": [],
   "source": [
    "def predict_health_risks(user_input, models, scaler):\n",
    "    \"\"\"Predict health risks for user input\"\"\"\n",
    "    # Calculate BMI\n",
    "    bmi = calculate_bmi(user_input['weight'], user_input['height'])\n",
    "    \n",
    "    # Prepare features with same columns as training data\n",
    "    features = pd.DataFrame([[\n",
    "        user_input['height'],\n",
    "        user_input['weight'], \n",
    "        user_input['gender'],\n",
    "        user_input['age'],\n",
    "        user_input['blood_pressure'],  # bp\n",
    "        user_input['cholesterol'],     # bc\n",
    "        user_input['blood_glucose'],   # bg\n",
    "        bmi,\n",
    "        0,    # sodium (default)\n",
    "        0,    # fat (default)\n",
    "        0,    # protein (default)\n",
    "        0     # carbs (default)\n",
    "    ]])\n",
    "    \n",
    "    # Set column names to match training data\n",
    "    features.columns = [\n",
    "        'height', 'weight', 'gender', 'age', 'bp', 'bc', 'bg', 'bmi',\n",
    "        'sodium', 'fat', 'protein', 'carbs'\n",
    "    ]\n",
    "    \n",
    "    # Scale features\n",
    "    features_scaled = scaler.transform(features)\n",
    "    \n",
    "    # Make predictions for each disease\n",
    "    predictions = {}\n",
    "    for disease, model in models.items():\n",
    "        try:\n",
    "            proba = model.predict_proba(features_scaled)[0]\n",
    "            prob = proba[1] if len(proba) > 1 else model.predict(features_scaled)[0]\n",
    "        except:\n",
    "            prob = model.predict(features_scaled)[0]\n",
    "        predictions[disease] = float(prob) * 100\n",
    "    \n",
    "    return bmi, predictions"
   ]
  },
  {
   "cell_type": "code",
   "execution_count": 12,
   "metadata": {},
   "outputs": [
    {
     "name": "stderr",
     "output_type": "stream",
     "text": [
      "c:\\Users\\Dana\\anaconda3\\envs\\py310\\lib\\site-packages\\sklearn\\base.py:376: InconsistentVersionWarning: Trying to unpickle estimator DecisionTreeClassifier from version 1.3.2 when using version 1.5.2. This might lead to breaking code or invalid results. Use at your own risk. For more info please refer to:\n",
      "https://scikit-learn.org/stable/model_persistence.html#security-maintainability-limitations\n",
      "  warnings.warn(\n",
      "c:\\Users\\Dana\\anaconda3\\envs\\py310\\lib\\site-packages\\sklearn\\base.py:376: InconsistentVersionWarning: Trying to unpickle estimator RandomForestClassifier from version 1.3.2 when using version 1.5.2. This might lead to breaking code or invalid results. Use at your own risk. For more info please refer to:\n",
      "https://scikit-learn.org/stable/model_persistence.html#security-maintainability-limitations\n",
      "  warnings.warn(\n"
     ]
    },
    {
     "name": "stdout",
     "output_type": "stream",
     "text": [
      "\n",
      "=== Health Risk Prediction System ===\n",
      "\n",
      "Error: X has 12 features, but StandardScaler is expecting 9 features as input.\n",
      "Pastikan model sudah dilatih dan disimpan di folder 'models/'\n"
     ]
    },
    {
     "name": "stderr",
     "output_type": "stream",
     "text": [
      "c:\\Users\\Dana\\anaconda3\\envs\\py310\\lib\\site-packages\\sklearn\\base.py:376: InconsistentVersionWarning: Trying to unpickle estimator StandardScaler from version 1.3.2 when using version 1.5.2. This might lead to breaking code or invalid results. Use at your own risk. For more info please refer to:\n",
      "https://scikit-learn.org/stable/model_persistence.html#security-maintainability-limitations\n",
      "  warnings.warn(\n",
      "c:\\Users\\Dana\\anaconda3\\envs\\py310\\lib\\site-packages\\sklearn\\base.py:486: UserWarning: X has feature names, but StandardScaler was fitted without feature names\n",
      "  warnings.warn(\n"
     ]
    }
   ],
   "source": [
    "def main():\n",
    "    try:\n",
    "        # Load models and scaler\n",
    "        models, scaler = load_model_and_params()\n",
    "        \n",
    "        # Get user input\n",
    "        print(\"\\n=== Health Risk Prediction System ===\")\n",
    "        user_input = {\n",
    "            'height':170               #float(input(\"Masukkan tinggi badan (cm): \"))\n",
    "            ,'weight':60              #float(input(\"Masukkan berat badan (kg): \"))\n",
    "            ,'gender':1              #1 if input(\"Masukkan jenis kelamin (L/P): \").upper() == 'L' else 0\n",
    "            ,'age':25                 #float(input(\"Masukkan usia: \"))\n",
    "            ,'blood_pressure':120      #float(input(\"Masukkan tekanan darah (mmHg): \"))\n",
    "            ,'cholesterol':180         #float(input(\"Masukkan kolesterol (mg/dL): \"))\n",
    "            ,'blood_glucose':90       #float(input(\"Masukkan gula darah (mg/dL): \"))\n",
    "        }\n",
    "        \n",
    "        # Make predictions\n",
    "        bmi, predictions = predict_health_risks(user_input, models, scaler)\n",
    "        \n",
    "        # Display results\n",
    "        print(\"\\n=== Hasil Prediksi ===\")\n",
    "        print(f\"\\nBMI: {bmi:.1f}\")\n",
    "        print(f\"Kategori BMI: {get_bmi_category(bmi)}\")\n",
    "        \n",
    "        print(\"\\nRisiko Penyakit:\")\n",
    "        for disease, risk in predictions.items():\n",
    "            disease_name = disease.replace('_', ' ').title()\n",
    "            risk_level = get_risk_level(risk)\n",
    "            print(f\"{disease_name}: {risk:.1f}% ({risk_level})\")\n",
    "            \n",
    "    except Exception as e:\n",
    "        print(f\"\\nError: {str(e)}\")\n",
    "        print(\"Pastikan model sudah dilatih dan disimpan di folder 'models/'\")\n",
    "\n",
    "if __name__ == \"__main__\":\n",
    "    main()"
   ]
  }
 ],
 "metadata": {
  "kernelspec": {
   "display_name": "Python 3",
   "language": "python",
   "name": "python3"
  },
  "language_info": {
   "codemirror_mode": {
    "name": "ipython",
    "version": 3
   },
   "file_extension": ".py",
   "mimetype": "text/x-python",
   "name": "python",
   "nbconvert_exporter": "python",
   "pygments_lexer": "ipython3",
   "version": "3.10.15"
  }
 },
 "nbformat": 4,
 "nbformat_minor": 2
}
